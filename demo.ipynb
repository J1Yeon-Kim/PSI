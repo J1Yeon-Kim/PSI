{
 "cells": [
  {
   "cell_type": "markdown",
   "metadata": {},
   "source": [
    "# Generating 3D People in Scenes without People\n",
    "\n",
    "Here we give a frontend demo of how to generate body meshes in a scene without people. \n",
    "+ First, we use a pre-trained conditional VAE model to generate body meshes. Here we only show the one-stage model without scene loss. \n",
    "+ Second, we perform scene geometry-aware fitting.\n",
    "\n",
    "The code in this demo is slightly different from the code in other places. __To efficiently generate a large amount of body meshes for various scenes, we recommend to use the frontend sh scripts.__"
   ]
  },
  {
   "cell_type": "markdown",
   "metadata": {},
   "source": [
    "## (1) loading dependencies, models and setup environments"
   ]
  },
  {
   "cell_type": "code",
   "execution_count": 1,
   "metadata": {},
   "outputs": [],
   "source": [
    "from __future__ import absolute_import\n",
    "from __future__ import print_function\n",
    "from __future__ import division\n",
    "\n",
    "\n",
    "import sys, os, glob\n",
    "import json\n",
    "import argparse\n",
    "import numpy as np\n",
    "import scipy.io as sio\n",
    "\n",
    "import open3d as o3d\n",
    "from pyntcloud import PyntCloud\n",
    "\n",
    "\n",
    "# proj_path = '/is/ps2/yzhang/workspaces/PSI-internal'\n",
    "proj_path = '/home/ryeon/project/psi'\n",
    "sys.path.append(proj_path)\n",
    "sys.path.append(proj_path+'/source')\n",
    "\n",
    "\n",
    "import torch\n",
    "import torch.nn as nn\n",
    "import torch.nn.functional as F\n",
    "from torch.nn import init\n",
    "import torch.optim as optim\n",
    "from torch.optim import lr_scheduler\n",
    "\n",
    "import smplx\n",
    "from human_body_prior.tools.model_loader import load_vposer\n",
    "\n",
    "from cvae import HumanCVAES1, HumanCVAES2, ContinousRotReprDecoder\n",
    "\n",
    "import time\n"
   ]
  },
  {
   "cell_type": "code",
   "execution_count": 2,
   "metadata": {},
   "outputs": [],
   "source": [
    "import smplx\n",
    "from human_body_prior.tools.model_loader import load_vposer\n",
    "import chamfer_pytorch.dist_chamfer as ext\n"
   ]
  },
  {
   "cell_type": "markdown",
   "metadata": {},
   "source": [
    "We put some auxilary functions here, mainly for coordinate transform and file parsing."
   ]
  },
  {
   "cell_type": "code",
   "execution_count": 3,
   "metadata": {},
   "outputs": [],
   "source": [
    "def recover_global_T(x_batch, cam_intrisic, max_depth):\n",
    "    xt_batch = x_batch[:,:3]\n",
    "    xr_batch = x_batch[:,3:]\n",
    "\n",
    "    fx_batch = cam_intrisic[:,0,0]\n",
    "    fy_batch = cam_intrisic[:,1,1]\n",
    "    px_batch = cam_intrisic[:,0,2]\n",
    "    py_batch = cam_intrisic[:,1,2]\n",
    "    s_ = 1.0 / torch.max(px_batch, py_batch)\n",
    "\n",
    "    z = (xt_batch[:, 2]+1.0)/2.0 * max_depth\n",
    "\n",
    "    x = xt_batch[:,0] * z / s_ / fx_batch\n",
    "    y = xt_batch[:,1] * z / s_ / fy_batch\n",
    "    \n",
    "    xt_batch_recoverd = torch.stack([x,y,z],dim=-1)\n",
    "\n",
    "    return torch.cat([xt_batch_recoverd, xr_batch],dim=-1)\n",
    "\n",
    "\n",
    "\n",
    "def convert_to_3D_rot(x_batch):\n",
    "    xt = x_batch[:,:3]\n",
    "    xr = x_batch[:,3:9]\n",
    "    xb = x_batch[:,9:]\n",
    "\n",
    "    xr_mat = ContinousRotReprDecoder.decode(xr) # return [:,3,3]\n",
    "    xr_aa = ContinousRotReprDecoder.matrot2aa(xr_mat) # return [:,3]\n",
    "\n",
    "    return torch.cat([xt, xr_aa, xb], dim=-1)\n",
    "\n",
    "\n",
    "def body_params_encapsulate(x_body_rec, to_numpy=True, batched=False):\n",
    "    \n",
    "    if to_numpy:\n",
    "        x_body_rec_np = x_body_rec.detach().cpu().numpy()\n",
    "    else:\n",
    "        x_body_rec_np = x_body_rec\n",
    "        \n",
    "    \n",
    "    if batched:\n",
    "        body_params_batch_rec={}\n",
    "        body_params_batch_rec['transl'] = x_body_rec_np[:,:3]\n",
    "        body_params_batch_rec['global_orient'] = x_body_rec_np[:,3:6]\n",
    "        body_params_batch_rec['betas'] = x_body_rec_np[:,6:16]\n",
    "        body_params_batch_rec['body_pose'] = x_body_rec_np[:,16:48]\n",
    "        body_params_batch_rec['left_hand_pose'] = x_body_rec_np[:,48:60]\n",
    "        body_params_batch_rec['right_hand_pose'] = x_body_rec_np[:,60:]\n",
    "        \n",
    "        return body_params_batch_rec\n",
    "    \n",
    "    else:\n",
    "        n_batch = x_body_rec_np.shape[0]\n",
    "        rec_list = []\n",
    "\n",
    "        for b in range(n_batch):\n",
    "            body_params_batch_rec={}\n",
    "            body_params_batch_rec['transl'] = x_body_rec_np[b:b+1,:3]\n",
    "            body_params_batch_rec['global_orient'] = x_body_rec_np[b:b+1,3:6]\n",
    "            body_params_batch_rec['betas'] = x_body_rec_np[b:b+1,6:16]\n",
    "            body_params_batch_rec['body_pose'] = x_body_rec_np[b:b+1,16:48]\n",
    "            body_params_batch_rec['left_hand_pose'] = x_body_rec_np[b:b+1,48:60]\n",
    "            body_params_batch_rec['right_hand_pose'] = x_body_rec_np[b:b+1,60:]\n",
    "            rec_list.append(body_params_batch_rec)\n",
    "\n",
    "        return rec_list\n",
    "\n",
    "\n",
    "\n",
    "\n",
    "def data_preprocessing(img, modality, target_domain_size=[128, 128]):\n",
    "\n",
    "    \"\"\"\n",
    "    input:\n",
    "        - img (depthmap or semantic map): [height, width].\n",
    "        - modality: 'depth' or 'seg'\n",
    "    output:\n",
    "        canvas: with shape of target_domain_size, where the input is in the\n",
    "                center tightly, with shape target_domain_size\n",
    "        factor: the resizing factor\n",
    "    \"\"\"\n",
    "\n",
    "    # prepare the canvas\n",
    "    img_shape_o = img.shape\n",
    "    canvas = torch.zeros([1,1]+target_domain_size, dtype=torch.float32,\n",
    "                         device=torch.device(\"cuda\"))\n",
    "\n",
    "\n",
    "    # filter out unavailable values\n",
    "    if modality == 'depth':\n",
    "        img[img>6.0]=6.0\n",
    "\n",
    "    if modality == 'seg':\n",
    "        img[img>41] = 41\n",
    "\n",
    "\n",
    "\n",
    "    ## rescale to [-1,1]\n",
    "    max_val = torch.max(img)\n",
    "    _img = 2* img / max_val - 1.0\n",
    "\n",
    "    ## put _img to the canvas\n",
    "    if img_shape_o[0]>= img_shape_o[1]:\n",
    "        factor = float(target_domain_size[0]) / img_shape_o[0]\n",
    "        target_height = target_domain_size[0]\n",
    "        target_width = int(img_shape_o[1] * factor) //2 *2 \n",
    "\n",
    "        # for depth map we use bilinear interpolation in resizing\n",
    "        # for segmentation map we use bilinear interpolation as well.\n",
    "        # note that float semantic label is not real in practice, but\n",
    "        # helpful in our work\n",
    "        target_size = [target_height, target_width]\n",
    "\n",
    "        _img = _img.view(1,1,img_shape_o[0],img_shape_o[1])\n",
    "        img_resize = F.interpolate(_img, size=target_size, mode='bilinear',\n",
    "                                    align_corners=False)\n",
    "\n",
    "        na = target_width\n",
    "        nb = target_domain_size[1]\n",
    "        lower = (nb //2) - (na //2)\n",
    "        upper = (nb //2) + (na //2)\n",
    "\n",
    "        canvas[:,:,:, lower:upper] = img_resize\n",
    "\n",
    "\n",
    "    else:\n",
    "        factor = float(target_domain_size[1]) / img_shape_o[1]\n",
    "\n",
    "        target_height = int(factor*img_shape_o[0]) //2 *2\n",
    "        target_width = target_domain_size[1]\n",
    "\n",
    "        target_size = [target_height, target_width]\n",
    "        _img = _img.view(1,1,img_shape_o[0],img_shape_o[1])\n",
    "        img_resize = F.interpolate(_img, size=target_size, mode='bilinear',\n",
    "                                    align_corners=False)\n",
    "\n",
    "        na = target_height\n",
    "        nb = target_domain_size[0]\n",
    "        lower = (nb //2) - (na //2)\n",
    "        upper = (nb //2) + (na //2)\n",
    "\n",
    "        canvas[:,:,lower:upper, :] = img_resize\n",
    "\n",
    "    return canvas, factor, max_val\n",
    "\n",
    "\n",
    "\n",
    "\n",
    "def scipy_matfile_parse(filename):\n",
    "    '''\n",
    "    parse data from files and put them to GPU\n",
    "    Note that this function is for demo, and is different from the ones used in other places.\n",
    "    '''\n",
    "    data = sio.loadmat(filename)\n",
    "    depth0_np = data['depth']\n",
    "    seg0_np = data['seg']\n",
    "\n",
    "    ## change them to torch tensor\n",
    "    depth0 = torch.tensor(depth0_np, dtype=torch.float32, device=torch.device(\"cuda\"))\n",
    "    seg0 = torch.tensor(seg0_np, dtype=torch.float32, device=torch.device(\"cuda\"))\n",
    "\n",
    "    ## pre_processing\n",
    "    depth, factor_d,max_d = data_preprocessing(depth0, 'depth', target_domain_size=[128, 128])\n",
    "    seg, factor_s,_ = data_preprocessing(seg0, 'seg', target_domain_size=[128, 128])\n",
    "\n",
    "\n",
    "    cam_intrinsic_np = data['cam'][0][0]['intrinsic']\n",
    "    cam_intrinsic = torch.tensor(cam_intrinsic_np, dtype=torch.float32, device=torch.device(\"cuda\")).unsqueeze(0)\n",
    "    cam_extrinsic_np = data['cam'][0][0]['extrinsic']\n",
    "    cam_extrinsic_np = np.linalg.inv(cam_extrinsic_np)\n",
    "    cam_extrinsic = torch.tensor(cam_extrinsic_np, dtype=torch.float32, device=torch.device(\"cuda\")).unsqueeze(0)\n",
    "\n",
    "    return depth, seg, max_d.view(1), cam_intrinsic, cam_extrinsic\n",
    "\n"
   ]
  },
  {
   "cell_type": "markdown",
   "metadata": {},
   "source": [
    "## (2) Prepare the scene without people\n",
    "\n",
    "Our method requires the following data about a scene:\n",
    "+ depth map\n",
    "+ semantic segmentation\n",
    "+ the camera parameters (extrinsic and intrinsic)\n",
    "+ the scene signed distance function (SDF)\n",
    "+ the scene mesh\n",
    "\n",
    "Note that SDF and scene mesh are only used for scene-geometry aware fitting. For generating body meshes with the CVAE model, only the first three attributes are sufficient.\n",
    "\n",
    "Here we use the 'MPH16' scene in the __PROXE__ dataset."
   ]
  },
  {
   "cell_type": "code",
   "execution_count": 4,
   "metadata": {},
   "outputs": [],
   "source": [
    "scenename = 'MPH16'\n",
    "proxe_path = '/data/proxe'\n",
    "\n",
    "## read the depth and semantics\n",
    "scene_matfile_path = os.path.join(proxe_path, 'snapshot_for_testing/MPH16_00157_01/rec_000000.mat')\n",
    "depth, seg, max_d, cam_intrinsic, cam_extrinsic = scipy_matfile_parse(scene_matfile_path)\n",
    "\n",
    "## read the sdf\n",
    "with open(os.path.join(proxe_path, 'scenes_sdf',scenename+'.json')) as f:\n",
    "    sdf_data = json.load(f)\n",
    "    grid_min = np.array(sdf_data['min'])\n",
    "    grid_max = np.array(sdf_data['max'])\n",
    "    grid_dim = sdf_data['dim']\n",
    "sdf = np.load(os.path.join(proxe_path, 'scenes_sdf', scenename + '_sdf.npy')).reshape(grid_dim, grid_dim, grid_dim)\n",
    "\n",
    "## read the scene mesh\n",
    "scene_mesh = o3d.io.read_triangle_mesh(os.path.join(proxe_path, 'scenes_downsampled', scenename+'.ply'))\n",
    "scene_verts = np.asarray(scene_mesh.vertices)\n",
    "scene_faces = np.asarray(scene_mesh.triangles)\n",
    "scene_pcd = PyntCloud.from_instance(\"open3d\", scene_mesh)\n",
    "\n"
   ]
  },
  {
   "cell_type": "code",
   "execution_count": 5,
   "metadata": {},
   "outputs": [
    {
     "name": "stderr",
     "output_type": "stream",
     "text": [
      "/home/ryeon/anaconda3/envs/psi/lib/python3.6/site-packages/pythreejs/traits.py:203: UserWarning: 64-bit data types not supported for WebGL data, casting to 32-bit.\n",
      "  warnings.warn('64-bit data types not supported for WebGL '\n"
     ]
    },
    {
     "data": {
      "application/vnd.jupyter.widget-view+json": {
       "model_id": "e21d2b84b88e4a909767cd8ea3964eb9",
       "version_major": 2,
       "version_minor": 0
      },
      "text/plain": [
       "Renderer(camera=PerspectiveCamera(aspect=1.6, fov=90.0, position=(-0.38396479610201845, 2.714185747882214, 2.2…"
      ]
     },
     "metadata": {},
     "output_type": "display_data"
    },
    {
     "data": {
      "application/vnd.jupyter.widget-view+json": {
       "model_id": "e5117eb0a2b54ca0ab8002a761b5f428",
       "version_major": 2,
       "version_minor": 0
      },
      "text/plain": [
       "HBox(children=(Label(value='Point size:'), FloatSlider(value=0.5117690801620484, max=5.117690801620483, step=0…"
      ]
     },
     "metadata": {},
     "output_type": "display_data"
    },
    {
     "data": {
      "application/vnd.jupyter.widget-view+json": {
       "model_id": "6e6926a10825437a9b41e3338a47e0cb",
       "version_major": 2,
       "version_minor": 0
      },
      "text/plain": [
       "Preview(child=Scene(children=(Points(geometry=BufferGeometry(attributes={'position': <BufferAttribute shape=(5…"
      ]
     },
     "metadata": {},
     "output_type": "display_data"
    },
    {
     "data": {
      "image/png": "[encoded data removed]",
      "text/plain": [
       "<Figure size 432x288 with 2 Axes>"
      ]
     },
     "metadata": {
      "needs_background": "light"
     },
     "output_type": "display_data"
    }
   ],
   "source": [
    "## We could visualize the scene data, or skip this step.\n",
    "\n",
    "import matplotlib.pyplot as plt\n",
    "\n",
    "plt.subplot(1,2,1)\n",
    "depth_processed_np = depth.detach().cpu().squeeze().numpy()\n",
    "plt.imshow(depth_processed_np)\n",
    "\n",
    "plt.subplot(1,2,2)\n",
    "seg_processed_np = seg.detach().cpu().squeeze().numpy()\n",
    "plt.imshow(seg_processed_np)\n",
    "\n",
    "# we use webGL to visualize 3D, which is a different case from running locally.\n",
    "# only works for point cloud visualization\n",
    "# note that visualizing 3D here may cause slow responses.\n",
    "pcd = o3d.geometry.PointCloud()\n",
    "pcd.points = scene_mesh.vertices\n",
    "pcd.colors = scene_mesh.vertex_colors\n",
    "\n",
    "scene_pcd.plot(backend='pythreejs', return_scene=True)\n",
    "\n",
    "# from open3d import JVisualizer\n",
    "# visualizer = JVisualizer()\n",
    "# visualizer.add_geometry(pcd)\n",
    "# visualizer.show()\n"
   ]
  },
  {
   "cell_type": "markdown",
   "metadata": {},
   "source": [
    "## （3） Generating body meshes using the pre-trained conditional VAE model\n",
    "\n",
    "For demonstration purposes, we only use the **one-stage model without scene loss**. For other models, the pipeline is the same."
   ]
  },
  {
   "cell_type": "code",
   "execution_count": 6,
   "metadata": {},
   "outputs": [
    {
     "name": "stdout",
     "output_type": "stream",
     "text": [
      "Found Trained Model: /data/smpl_models/vposer_v1_0/snapshots/TR00_E096.pt\n",
      "[INFO] load checkpoints: checkpoints_v2/checkpoints_proxtrain_models1_batch32_epoch30_LR0.0003_LossVposer0.001_LossKL0.1_LossContact0.000001_LossCollision0.000001/epoch-000030.ckp\n"
     ]
    },
    {
     "data": {
      "text/plain": [
       "<All keys matched successfully>"
      ]
     },
     "execution_count": 6,
     "metadata": {},
     "output_type": "execute_result"
    }
   ],
   "source": [
    "testconfig={\n",
    "    'smplx_model_path': '/data/smpl_models',\n",
    "    'scene_model_ckpt': '/home/ryeon/project/psi/data/resnet18.pth',\n",
    "    'vposer_ckpt_path': '/data/smpl_models/vposer_v1_0',\n",
    "    'device': torch.device(\"cuda\" if torch.cuda.is_available() else \"cpu\"),\n",
    "    'ckpt_dir': 'checkpoints_v2/checkpoints_proxtrain_models1_batch32_epoch30_LR0.0003_LossVposer0.001_LossKL0.1_LossContact0.000001_LossCollision0.000001',\n",
    "    'n_samples': 2\n",
    "}\n",
    "\n",
    "### our conditional vae model\n",
    "model_h = HumanCVAES1(latentD=256, # default value in our checkpoints\n",
    "                      n_dim_body=75,# global T(3d) + global R(6d) + shape (10d) + pose (32d) + hand (24d)\n",
    "                      scene_model_ckpt=None,\n",
    "                      test=True)\n",
    "\n",
    "# model_h = HumanCVAES2(latentD_g=256, # default value in our checkpoints\n",
    "#                       latentD_l=256, # default value in our checkpoints\n",
    "#                       n_dim_body=75,# global T(3d) + global R(6d) + shape (10d) + pose (32d) + hand (24d)\n",
    "#                       scene_model_ckpt=None,\n",
    "#                       test=True)\n",
    "\n",
    "### VPoesr\n",
    "vposer, _ = load_vposer(testconfig['vposer_ckpt_path'], vp_model='snapshot')\n",
    "\n",
    "### smplx\n",
    "body_mesh_model = smplx.create(testconfig['smplx_model_path'], \n",
    "                               model_type='smplx',\n",
    "                               gender='neutral', ext='npz',\n",
    "                               num_pca_comps=12,\n",
    "                               create_global_orient=True,\n",
    "                               create_body_pose=True,\n",
    "                               create_betas=True,\n",
    "                               create_left_hand_pose=True,\n",
    "                               create_right_hand_pose=True,\n",
    "                               create_expression=True,\n",
    "                               create_jaw_pose=True,\n",
    "                               create_leye_pose=True,\n",
    "                               create_reye_pose=True,\n",
    "                               create_transl=True,\n",
    "                               batch_size=testconfig['n_samples']\n",
    "                               )\n",
    "\n",
    "## setup models and load checkpoints\n",
    "model_h.eval()\n",
    "model_h.to(testconfig['device'])\n",
    "\n",
    "vposer.to(testconfig['device'])\n",
    "body_mesh_model.to(testconfig['device'])\n",
    "\n",
    "ckp_path = sorted(glob.glob(os.path.join(testconfig['ckpt_dir'],'epoch-*.ckp')),\n",
    "                    key=os.path.getmtime)[-1]\n",
    "\n",
    "\n",
    "checkpoint = torch.load(ckp_path)\n",
    "print('[INFO] load checkpoints: ' + ckp_path)\n",
    "\n",
    "model_h.load_state_dict(checkpoint['model_h_state_dict'])\n",
    "\n"
   ]
  },
  {
   "cell_type": "markdown",
   "metadata": {},
   "source": [
    "Run the following code block to sample body configurations."
   ]
  },
  {
   "cell_type": "code",
   "execution_count": 7,
   "metadata": {},
   "outputs": [],
   "source": [
    "## generating body configurations\n",
    "\n",
    "### concatenate depth and seg\n",
    "xs = torch.cat([depth, seg],dim=1)\n",
    "xs_n = xs.repeat(testconfig['n_samples'], 1,1,1)\n",
    "\n",
    "### model inference\n",
    "xhnr_gen= model_h.sample(xs_n)\n",
    "\n",
    "### recover to the original translation/orientation range \n",
    "xhn_gen = convert_to_3D_rot(xhnr_gen)        \n",
    "xh_gen = recover_global_T(xhn_gen, cam_intrinsic.repeat(testconfig['n_samples'],1,1), \n",
    "                          max_d.repeat(testconfig['n_samples']))\n",
    "\n"
   ]
  },
  {
   "cell_type": "markdown",
   "metadata": {},
   "source": [
    "In the following, we visualize the generated body configurations."
   ]
  },
  {
   "cell_type": "code",
   "execution_count": 8,
   "metadata": {},
   "outputs": [
    {
     "data": {
      "application/vnd.jupyter.widget-view+json": {
       "model_id": "ca8dec6175c9447986b2edb39d9c93c7",
       "version_major": 2,
       "version_minor": 0
      },
      "text/plain": [
       "Renderer(camera=PerspectiveCamera(aspect=1.6, fov=90.0, position=(-0.38396479610201845, 2.714185747882214, 2.2…"
      ]
     },
     "metadata": {},
     "output_type": "display_data"
    },
    {
     "data": {
      "application/vnd.jupyter.widget-view+json": {
       "model_id": "8074a714658e4e5e960ef8f17bdb4953",
       "version_major": 2,
       "version_minor": 0
      },
      "text/plain": [
       "HBox(children=(Label(value='Point size:'), FloatSlider(value=0.1, max=1.0, step=0.001), Label(value='Backgroun…"
      ]
     },
     "metadata": {},
     "output_type": "display_data"
    },
    {
     "data": {
      "application/vnd.jupyter.widget-view+json": {
       "model_id": "8658dbaa88d34417928a01ecd7f7b0bf",
       "version_major": 2,
       "version_minor": 0
      },
      "text/plain": [
       "HBox(children=(Label(value='Point size:'), FloatSlider(value=0.03, max=0.3, step=0.0003)))"
      ]
     },
     "metadata": {},
     "output_type": "display_data"
    },
    {
     "data": {
      "application/vnd.jupyter.widget-view+json": {
       "model_id": "931c6d24f85e46259cf31937cd4622e9",
       "version_major": 2,
       "version_minor": 0
      },
      "text/plain": [
       "HBox(children=(Label(value='Point size:'), FloatSlider(value=0.03, max=0.3, step=0.0003)))"
      ]
     },
     "metadata": {},
     "output_type": "display_data"
    }
   ],
   "source": [
    "## visualizing a body mesh. Note that we use WebGL, which may cause slow responses or even stuck.\n",
    "\n",
    "body_params = body_params_encapsulate(xh_gen, to_numpy=False, batched=True)\n",
    "body_params['body_pose'] = vposer.decode(body_params['body_pose'], output_type='aa').view(testconfig['n_samples'],-1)\n",
    "\n",
    "smplx_out = body_mesh_model(**body_params)\n",
    "smplx_verts = smplx_out.vertices.detach().cpu().numpy().squeeze()    \n",
    "\n",
    "cam_ext = cam_extrinsic.squeeze().detach().cpu().numpy()\n",
    "\n",
    "### create a body point cloud\n",
    "pcd_body_list = []\n",
    "for body_index in range(testconfig['n_samples']):\n",
    "    # body_index = 20\n",
    "    pcd_body = o3d.geometry.PointCloud()\n",
    "    pcd_body.points = o3d.utility.Vector3dVector(smplx_verts[body_index])\n",
    "    pcd_body = pcd_body.uniform_down_sample(every_k_points=2)\n",
    "    \n",
    "    ### perform transformation\n",
    "    pcd_body.transform(cam_ext)\n",
    "    pcd_body_list.append(pcd_body)\n",
    "    \n",
    "    \n",
    "\n",
    "### create a scene point cloud\n",
    "pcd_scene = o3d.geometry.PointCloud()\n",
    "pcd_scene.points = scene_mesh.vertices\n",
    "pcd_scene.colors = scene_mesh.vertex_colors\n",
    "pcd_scene = pcd_scene.uniform_down_sample(every_k_points=10)\n",
    "\n",
    "### create coord frame\n",
    "mesh_frame = o3d.geometry.TriangleMesh.create_coordinate_frame(\n",
    "        size=0.6, origin=[0, 0, 0])\n",
    "\n",
    "pcd_coord = o3d.geometry.PointCloud()\n",
    "pcd_coord.points = mesh_frame.vertices\n",
    "pcd_coord.colors = mesh_frame.vertex_colors\n",
    "pcd_coord.transform(cam_ext)\n",
    "\n",
    "#Visualize\n",
    "scene_pcd = PyntCloud.from_instance(\"open3d\", scene_mesh)\n",
    "tot_scene_pcd = scene_pcd.plot(backend='pythreejs', initial_point_size=0.1,  return_scene=True)\n",
    "\n",
    "import random\n",
    "colors = [157, 158, 204]\n",
    "\n",
    "for body_index in range(testconfig['n_samples']):\n",
    "    body_pcd = PyntCloud.from_instance(\"open3d\", pcd_body_list[body_index])\n",
    "    body_pcd.points[\"red\"] = random.choice(colors)\n",
    "    body_pcd.points[\"blue\"] = random.choice(colors)\n",
    "    body_pcd.points[\"green\"] = random.choice(colors)\n",
    "    body_pcd.plot(backend='pythreejs', initial_point_size=0.03, scene=tot_scene_pcd)\n",
    "\n",
    "    \n",
    "# ### visualize in WebGL\n",
    "# from open3d import JVisualizer\n",
    "# visualizer = JVisualizer()\n",
    "# visualizer.add_geometry(pcd_scene)\n",
    "# visualizer.add_geometry(pcd_coord)\n",
    "# for body_index in range(testconfig['n_samples']):\n",
    "#     visualizer.add_geometry(pcd_body_list[body_index])\n",
    "\n",
    "# visualizer.show()"
   ]
  },
  {
   "cell_type": "markdown",
   "metadata": {},
   "source": [
    "### (4) scene geometry-aware fitting\n",
    "\n",
    "One see that some generated body meshes are not physically plausible, either floating in the air or penetrating into the scene mesh. Therefore, we have this geometry-aware fitting to overcome these problems. \n"
   ]
  },
  {
   "cell_type": "code",
   "execution_count": 9,
   "metadata": {
    "scrolled": true
   },
   "outputs": [
    {
     "name": "stdout",
     "output_type": "stream",
     "text": [
      "[INFO][fitting] iter=0, l_rec=0.000000, l_vposer=0.004256, l_contact=0.093401, l_collision=0.006423\n",
      "[INFO][fitting] iter=1, l_rec=0.044407, l_vposer=0.004221, l_contact=0.091316, l_collision=0.001594\n",
      "[INFO][fitting] iter=2, l_rec=0.020604, l_vposer=0.004237, l_contact=0.093899, l_collision=0.000699\n",
      "[INFO][fitting] iter=3, l_rec=0.030129, l_vposer=0.004285, l_contact=0.094715, l_collision=0.000681\n",
      "[INFO][fitting] iter=4, l_rec=0.037189, l_vposer=0.004288, l_contact=0.094620, l_collision=0.000227\n",
      "[INFO][fitting] iter=5, l_rec=0.033626, l_vposer=0.004258, l_contact=0.094839, l_collision=0.000427\n",
      "[INFO][fitting] iter=6, l_rec=0.023443, l_vposer=0.004217, l_contact=0.095018, l_collision=0.000342\n",
      "[INFO][fitting] iter=7, l_rec=0.013918, l_vposer=0.004193, l_contact=0.095003, l_collision=0.000756\n",
      "[INFO][fitting] iter=8, l_rec=0.020495, l_vposer=0.004207, l_contact=0.094590, l_collision=0.000491\n",
      "[INFO][fitting] iter=9, l_rec=0.023386, l_vposer=0.004228, l_contact=0.094163, l_collision=0.000420\n",
      "[INFO][fitting] iter=10, l_rec=0.021098, l_vposer=0.004248, l_contact=0.093938, l_collision=0.000654\n",
      "[INFO][fitting] iter=11, l_rec=0.019800, l_vposer=0.004284, l_contact=0.093566, l_collision=0.000992\n",
      "[INFO][fitting] iter=12, l_rec=0.018824, l_vposer=0.004299, l_contact=0.092866, l_collision=0.001159\n",
      "[INFO][fitting] iter=13, l_rec=0.014633, l_vposer=0.004291, l_contact=0.091829, l_collision=0.001013\n",
      "[INFO][fitting] iter=14, l_rec=0.012605, l_vposer=0.004259, l_contact=0.091222, l_collision=0.000744\n",
      "[INFO][fitting] iter=15, l_rec=0.015357, l_vposer=0.004230, l_contact=0.090979, l_collision=0.000672\n",
      "[INFO][fitting] iter=16, l_rec=0.016730, l_vposer=0.004216, l_contact=0.090915, l_collision=0.000681\n",
      "[INFO][fitting] iter=17, l_rec=0.016664, l_vposer=0.004224, l_contact=0.090680, l_collision=0.000764\n",
      "[INFO][fitting] iter=18, l_rec=0.013927, l_vposer=0.004222, l_contact=0.090553, l_collision=0.000917\n",
      "[INFO][fitting] iter=19, l_rec=0.010761, l_vposer=0.004234, l_contact=0.090595, l_collision=0.001004\n",
      "[INFO][fitting] iter=20, l_rec=0.013148, l_vposer=0.004245, l_contact=0.090540, l_collision=0.000913\n",
      "[INFO][fitting] iter=21, l_rec=0.014328, l_vposer=0.004258, l_contact=0.090584, l_collision=0.000757\n",
      "[INFO][fitting] iter=22, l_rec=0.013682, l_vposer=0.004266, l_contact=0.090472, l_collision=0.000652\n",
      "[INFO][fitting] iter=23, l_rec=0.014060, l_vposer=0.004276, l_contact=0.090512, l_collision=0.000671\n",
      "[INFO][fitting] iter=24, l_rec=0.013186, l_vposer=0.004271, l_contact=0.090526, l_collision=0.000719\n",
      "[INFO][fitting] iter=25, l_rec=0.010997, l_vposer=0.004261, l_contact=0.090669, l_collision=0.000758\n",
      "[INFO][fitting] iter=26, l_rec=0.010838, l_vposer=0.004254, l_contact=0.090784, l_collision=0.000739\n",
      "[INFO][fitting] iter=27, l_rec=0.011935, l_vposer=0.004254, l_contact=0.090833, l_collision=0.000894\n",
      "[INFO][fitting] iter=28, l_rec=0.012701, l_vposer=0.004257, l_contact=0.090837, l_collision=0.001019\n",
      "[INFO][fitting] iter=29, l_rec=0.012155, l_vposer=0.004258, l_contact=0.090844, l_collision=0.000948\n",
      "[INFO][fitting] iter=30, l_rec=0.010170, l_vposer=0.004257, l_contact=0.090905, l_collision=0.000850\n",
      "[INFO][fitting] iter=31, l_rec=0.009087, l_vposer=0.004249, l_contact=0.091036, l_collision=0.000787\n",
      "[INFO][fitting] iter=32, l_rec=0.010301, l_vposer=0.004251, l_contact=0.091116, l_collision=0.000772\n",
      "[INFO][fitting] iter=33, l_rec=0.011050, l_vposer=0.004251, l_contact=0.091317, l_collision=0.000831\n",
      "[INFO][fitting] iter=34, l_rec=0.010481, l_vposer=0.004254, l_contact=0.091067, l_collision=0.000732\n",
      "[INFO][fitting] iter=35, l_rec=0.010934, l_vposer=0.004245, l_contact=0.091062, l_collision=0.000623\n",
      "[INFO][fitting] iter=36, l_rec=0.010492, l_vposer=0.004235, l_contact=0.091031, l_collision=0.000589\n",
      "[INFO][fitting] iter=37, l_rec=0.009361, l_vposer=0.004228, l_contact=0.090937, l_collision=0.000581\n",
      "[INFO][fitting] iter=38, l_rec=0.009773, l_vposer=0.004233, l_contact=0.090938, l_collision=0.000569\n",
      "[INFO][fitting] iter=39, l_rec=0.010882, l_vposer=0.004256, l_contact=0.090727, l_collision=0.000520\n",
      "[INFO][fitting] iter=40, l_rec=0.011066, l_vposer=0.004272, l_contact=0.090727, l_collision=0.000503\n",
      "[INFO][fitting] iter=41, l_rec=0.010890, l_vposer=0.004277, l_contact=0.090695, l_collision=0.000562\n",
      "[INFO][fitting] iter=42, l_rec=0.009620, l_vposer=0.004266, l_contact=0.090755, l_collision=0.000729\n",
      "[INFO][fitting] iter=43, l_rec=0.008658, l_vposer=0.004261, l_contact=0.090775, l_collision=0.000784\n",
      "[INFO][fitting] iter=44, l_rec=0.009797, l_vposer=0.004250, l_contact=0.090873, l_collision=0.000696\n",
      "[INFO][fitting] iter=45, l_rec=0.010438, l_vposer=0.004244, l_contact=0.091073, l_collision=0.000605\n",
      "[INFO][fitting] iter=46, l_rec=0.010568, l_vposer=0.004247, l_contact=0.091121, l_collision=0.000633\n",
      "[INFO][fitting] iter=47, l_rec=0.010386, l_vposer=0.004257, l_contact=0.091068, l_collision=0.000717\n",
      "[INFO][fitting] iter=48, l_rec=0.010115, l_vposer=0.004270, l_contact=0.091042, l_collision=0.000843\n",
      "[INFO][fitting] iter=49, l_rec=0.009475, l_vposer=0.004274, l_contact=0.091011, l_collision=0.000735\n"
     ]
    }
   ],
   "source": [
    "import torch.optim as optim\n",
    "from torch.autograd import Variable\n",
    "import chamfer_pytorch.dist_chamfer as ext\n",
    "\n",
    "\n",
    "def get_contact_id(body_segments_folder, contact_body_parts=['L_Hand', 'R_Hand']):\n",
    "\n",
    "    contact_verts_ids = []\n",
    "    contact_faces_ids = []\n",
    "\n",
    "    for part in contact_body_parts:\n",
    "        with open(os.path.join(body_segments_folder, part + '.json'), 'r') as f:\n",
    "            data = json.load(f)\n",
    "            contact_verts_ids.append(list(set(data[\"verts_ind\"])))\n",
    "            contact_faces_ids.append(list(set(data[\"faces_ind\"])))\n",
    "\n",
    "    contact_verts_ids = np.concatenate(contact_verts_ids)\n",
    "    contact_faces_ids = np.concatenate(contact_faces_ids)\n",
    "\n",
    "\n",
    "    return contact_verts_ids, contact_faces_ids\n",
    "\n",
    "    \n",
    "    \n",
    "\n",
    "def verts_transform(verts_batch, cam_ext_batch):\n",
    "    verts_batch_homo = F.pad(verts_batch, (0,1), mode='constant', value=1)\n",
    "    verts_batch_homo_transformed = torch.matmul(verts_batch_homo,\n",
    "                                                cam_ext_batch.permute(0,2,1))\n",
    "\n",
    "    verts_batch_transformed = verts_batch_homo_transformed[:,:,:-1]\n",
    "    \n",
    "    return verts_batch_transformed    \n",
    "    \n",
    "    \n",
    "\n",
    "\n",
    "def cal_loss(xhr, xhr_rec, cam_ext_batch, s_verts_batch,\n",
    "             s_sdf_batch,s_grid_min_batch, s_grid_max_batch,\n",
    "             lossconfig, fittingconfig):\n",
    "\n",
    "\n",
    "    ### reconstruction loss\n",
    "    loss_rec = lossconfig['weight_loss_rec']*F.l1_loss(xhr, xhr_rec)\n",
    "    xh_rec = convert_to_3D_rot(xhr_rec)\n",
    "\n",
    "    ### vposer loss\n",
    "    vposer_pose = xh_rec[:,16:48]\n",
    "    loss_vposer = lossconfig['weight_loss_vposer'] * torch.mean(vposer_pose**2)\n",
    "\n",
    "    ### contact loss\n",
    "    body_param_rec = body_params_encapsulate(xh_rec, to_numpy=False, batched=True)\n",
    "    body_param_rec['body_pose'] = vposer.decode(body_param_rec['body_pose'], \n",
    "                                       output_type='aa').view(xhr.shape[0], -1)\n",
    "\n",
    "    smplx_output = body_mesh_model(return_verts=True, **body_param_rec)\n",
    "    body_verts_batch = smplx_output.vertices #[b, 10475,3]\n",
    "    body_verts_batch = verts_transform(body_verts_batch, cam_ext_batch)\n",
    "\n",
    "    \n",
    "    vid, fid = get_contact_id(body_segments_folder=fittingconfig['body_segments_folder'],\n",
    "                              contact_body_parts=fittingconfig['contact_part'])\n",
    "    \n",
    "    body_verts_contact_batch = body_verts_batch[:, vid, :]\n",
    "\n",
    "    dist_chamfer_contact = ext.chamferDist()\n",
    "    contact_dist, _ = dist_chamfer_contact(body_verts_contact_batch.contiguous(), \n",
    "                                            s_verts_batch.contiguous())\n",
    "\n",
    "    loss_contact = lossconfig['weight_contact'] * torch.mean(torch.sqrt(contact_dist+1e-4)\n",
    "                                                            /(torch.sqrt(contact_dist+1e-4)+0.01))  \n",
    "\n",
    "\n",
    "\n",
    "    ### sdf collision loss\n",
    "    s_grid_min_batch = s_grid_min_batch.unsqueeze(1)\n",
    "    s_grid_max_batch = s_grid_max_batch.unsqueeze(1)\n",
    "\n",
    "    norm_verts_batch = (body_verts_batch - s_grid_min_batch) / (s_grid_max_batch - s_grid_min_batch) *2 -1\n",
    "    n_verts = norm_verts_batch.shape[1]\n",
    "    body_sdf_batch = F.grid_sample(s_sdf_batch.unsqueeze(1), \n",
    "                                    norm_verts_batch[:,:,[2,1,0]].view(-1, n_verts,1,1,3),\n",
    "                                    padding_mode='border')\n",
    "\n",
    "\n",
    "    # if there are no penetrating vertices then set sdf_penetration_loss = 0\n",
    "    if body_sdf_batch.lt(0).sum().item() < 1:\n",
    "        loss_sdf_pene = torch.tensor(0.0, dtype=torch.float32, device=self.device)\n",
    "    else:\n",
    "        loss_sdf_pene = body_sdf_batch[body_sdf_batch < 0].abs().mean()\n",
    "\n",
    "    loss_collision = lossconfig['weight_collision']*loss_sdf_pene\n",
    "\n",
    "    return loss_rec, loss_vposer, loss_contact, loss_collision\n",
    "\n",
    " \n",
    "    \n",
    "def fitting(xhr_in, cam_extrinsic,\n",
    "            s_verts, s_sdf, s_grid_min, s_grid_max, max_d,\n",
    "            fittingconfig, lossconfig):\n",
    "    \n",
    "    \n",
    "    batch_size = xhr_in.shape[0]\n",
    "    xhr_rec = Variable(torch.randn(batch_size,75).cuda(), requires_grad=True)\n",
    "    optimizer = optim.Adam([xhr_rec], lr=fittingconfig['init_lr_h'])\n",
    "    xhr_rec.data = xhr_in.clone()\n",
    "\n",
    "    \n",
    "    cam_ext_batch = cam_extrinsic.repeat(batch_size, 1,1)\n",
    "    max_d_batch = max_d.repeat(batch_size)\n",
    "    s_verts_batch = s_verts.repeat(batch_size, 1,1)\n",
    "    s_sdf_batch = s_sdf.repeat(batch_size, 1,1,1)\n",
    "    s_grid_min_batch = s_grid_min.repeat(batch_size, 1)\n",
    "    s_grid_max_batch = s_grid_max.repeat(batch_size, 1)\n",
    "    \n",
    "    \n",
    "    \n",
    "    for ii in range(fittingconfig['num_iter']):\n",
    "\n",
    "        optimizer.zero_grad()\n",
    "\n",
    "        loss_rec, loss_vposer, loss_contact, loss_collision = cal_loss(xhr_in, xhr_rec, cam_ext_batch, s_verts_batch,\n",
    "                                                                         s_sdf_batch,s_grid_min_batch, s_grid_max_batch,\n",
    "                                                                         lossconfig, fittingconfig)\n",
    "        loss = loss_rec + loss_vposer + loss_contact + loss_collision\n",
    "        if fittingconfig['verbose']:\n",
    "            print('[INFO][fitting] iter={:d}, l_rec={:f}, l_vposer={:f}, l_contact={:f}, l_collision={:f}'.format(\n",
    "                                    ii, loss_rec.item(), loss_vposer.item(), \n",
    "                                    loss_contact.item(), loss_collision.item()) )\n",
    "\n",
    "        loss.backward(retain_graph=True)\n",
    "        optimizer.step()\n",
    "\n",
    "    ### recover global translation and orientation\n",
    "    xh_rec = convert_to_3D_rot(xhr_rec)        \n",
    "\n",
    "    return xh_rec\n",
    "    \n",
    "    \n",
    "    \n",
    "fittingconfig={'init_lr_h': 0.05,\n",
    "                'num_iter': 50, \n",
    "                'contact_part': ['back','butt','L_Hand','R_Hand','L_Leg',\n",
    "                                 'R_Leg','thighs'],\n",
    "                'body_segments_folder': os.path.join(proxe_path,'body_segments'),\n",
    "                'verbose': True\n",
    "              }\n",
    "\n",
    "lossconfig={\n",
    "    'weight_loss_rec': 1,\n",
    "    'weight_loss_vposer':0.01,\n",
    "    'weight_contact': 0.1,\n",
    "    'weight_collision' : 0.5\n",
    "}\n",
    "\n",
    "\n",
    "### put scene to tensors\n",
    "s_verts = torch.tensor(scene_verts, dtype=torch.float32).cuda().unsqueeze(0)\n",
    "s_grid_min = torch.tensor(grid_min, dtype=torch.float32).cuda().unsqueeze(0)\n",
    "s_grid_max = torch.tensor(grid_max, dtype=torch.float32).cuda().unsqueeze(0)\n",
    "s_sdf = torch.tensor(sdf, dtype=torch.float32).cuda().unsqueeze(0)        \n",
    "        \n",
    "xhr_gen = recover_global_T(xhnr_gen, cam_intrinsic.repeat(testconfig['n_samples'],1,1), \n",
    "                          max_d.repeat(testconfig['n_samples']))\n",
    "\n",
    "xh_fitting = fitting(xhr_gen, cam_extrinsic,\n",
    "                    s_verts, s_sdf, s_grid_min, s_grid_max, max_d,\n",
    "                    fittingconfig, lossconfig)\n",
    "\n",
    "\n",
    "\n",
    "\n",
    "\n"
   ]
  },
  {
   "cell_type": "code",
   "execution_count": 10,
   "metadata": {
    "scrolled": false
   },
   "outputs": [
    {
     "data": {
      "application/vnd.jupyter.widget-view+json": {
       "model_id": "1caa87205d684ea7b27cc5e735aae1e0",
       "version_major": 2,
       "version_minor": 0
      },
      "text/plain": [
       "Renderer(camera=PerspectiveCamera(aspect=1.6, fov=90.0, position=(-0.38396479610201845, 2.714185747882214, 2.2…"
      ]
     },
     "metadata": {},
     "output_type": "display_data"
    },
    {
     "data": {
      "application/vnd.jupyter.widget-view+json": {
       "model_id": "67fda2c6d4ce4b2184b102a815d7f098",
       "version_major": 2,
       "version_minor": 0
      },
      "text/plain": [
       "HBox(children=(Label(value='Point size:'), FloatSlider(value=0.1, max=1.0, step=0.001), Label(value='Backgroun…"
      ]
     },
     "metadata": {},
     "output_type": "display_data"
    },
    {
     "data": {
      "application/vnd.jupyter.widget-view+json": {
       "model_id": "59f0651bb0434b6098bb176ee1d8f9f3",
       "version_major": 2,
       "version_minor": 0
      },
      "text/plain": [
       "HBox(children=(Label(value='Point size:'), FloatSlider(value=0.03, max=0.3, step=0.0003)))"
      ]
     },
     "metadata": {},
     "output_type": "display_data"
    },
    {
     "data": {
      "application/vnd.jupyter.widget-view+json": {
       "model_id": "1e8ea5dc8c6d499eb0d9a7602f61c72f",
       "version_major": 2,
       "version_minor": 0
      },
      "text/plain": [
       "HBox(children=(Label(value='Point size:'), FloatSlider(value=0.03, max=0.3, step=0.0003)))"
      ]
     },
     "metadata": {},
     "output_type": "display_data"
    }
   ],
   "source": [
    "## visualizing a body mesh. Note that we use WebGL, which may cause slow responses or even stuck.\n",
    "\n",
    "body_params = body_params_encapsulate(xh_fitting, to_numpy=False, batched=True)\n",
    "body_params['body_pose'] = vposer.decode(body_params['body_pose'], output_type='aa').view(testconfig['n_samples'],-1)\n",
    "\n",
    "smplx_out = body_mesh_model(**body_params)\n",
    "smplx_verts = smplx_out.vertices.detach().cpu().numpy().squeeze()    \n",
    "\n",
    "cam_ext = cam_extrinsic.squeeze().detach().cpu().numpy()\n",
    "\n",
    "### create a body point cloud\n",
    "pcd_body_list = []\n",
    "for body_index in range(testconfig['n_samples']):\n",
    "    # body_index = 20\n",
    "    pcd_body = o3d.geometry.PointCloud()\n",
    "    pcd_body.points = o3d.utility.Vector3dVector(smplx_verts[body_index])\n",
    "    pcd_body = pcd_body.uniform_down_sample(every_k_points=2)\n",
    "    \n",
    "    ### perform transformation\n",
    "    pcd_body.transform(cam_ext)\n",
    "    pcd_body_list.append(pcd_body)\n",
    "    \n",
    "    \n",
    "\n",
    "### create a scene point cloud\n",
    "pcd_scene = o3d.geometry.PointCloud()\n",
    "pcd_scene.points = scene_mesh.vertices\n",
    "pcd_scene.colors = scene_mesh.vertex_colors\n",
    "pcd_scene = pcd_scene.uniform_down_sample(every_k_points=10)\n",
    "\n",
    "### create coord frame\n",
    "mesh_frame = o3d.geometry.TriangleMesh.create_coordinate_frame(\n",
    "        size=0.6, origin=[0, 0, 0])\n",
    "\n",
    "pcd_coord = o3d.geometry.PointCloud()\n",
    "pcd_coord.points = mesh_frame.vertices\n",
    "pcd_coord.colors = mesh_frame.vertex_colors\n",
    "pcd_coord.transform(cam_ext)\n",
    "\n",
    "#Visualize\n",
    "scene_pcd = PyntCloud.from_instance(\"open3d\", scene_mesh)\n",
    "tot_scene_pcd = scene_pcd.plot(backend='pythreejs', initial_point_size=0.1,  return_scene=True)\n",
    "    \n",
    "for body_index in range(testconfig['n_samples']):\n",
    "    body_pcd = PyntCloud.from_instance(\"open3d\", pcd_body_list[body_index])\n",
    "    body_pcd.points[\"red\"] = random.choice(colors)\n",
    "    body_pcd.points[\"blue\"] = random.choice(colors)\n",
    "    body_pcd.points[\"green\"] = random.choice(colors)\n",
    "    body_pcd.plot(backend='pythreejs', initial_point_size=0.03, scene=tot_scene_pcd) \n",
    "\n",
    "### visualize in WebGL\n",
    "# from open3d import JVisualizer\n",
    "# visualizer = JVisualizer()\n",
    "# visualizer.add_geometry(pcd_scene)\n",
    "# visualizer.add_geometry(pcd_coord)\n",
    "\n",
    "# for body_index in range(testconfig['n_samples']):\n",
    "#     visualizer.add_geometry(pcd_body_list[body_index])\n",
    "\n",
    "# visualizer.show()"
   ]
  }
 ],
 "metadata": {
  "celltoolbar": "Raw Cell Format",
  "kernelspec": {
   "display_name": "Python 3",
   "language": "python",
   "name": "python3"
  },
  "language_info": {
   "codemirror_mode": {
    "name": "ipython",
    "version": 3
   },
   "file_extension": ".py",
   "mimetype": "text/x-python",
   "name": "python",
   "nbconvert_exporter": "python",
   "pygments_lexer": "ipython3",
   "version": "3.6.5"
  }
 },
 "nbformat": 4,
 "nbformat_minor": 4
}